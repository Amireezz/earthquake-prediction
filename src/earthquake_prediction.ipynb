{
 "cells": [
  {
   "cell_type": "code",
   "execution_count": null,
   "id": "9edc9548",
   "metadata": {},
   "outputs": [
    {
     "name": "stdout",
     "output_type": "stream",
     "text": [
      "[[29.06 77.42  5.    2.5 ]\n",
      " [19.93 72.92  5.    2.4 ]\n",
      " [31.5  74.37 33.    3.4 ]\n",
      " ...\n",
      " [22.5  88.1  10.    3.6 ]\n",
      " [24.6  94.2  54.    3.5 ]\n",
      " [14.5  92.9  10.    4.6 ]]\n",
      "[[ 22  94  10]\n",
      " [ 27  75   5]\n",
      " [ 34  76  10]\n",
      " ...\n",
      " [ 31  76   5]\n",
      " [ 23  70  10]\n",
      " [ 37  72 125]] [4 2 2 ... 3 4 4]\n",
      "0.5735294117647058\n"
     ]
    }
   ],
   "source": [
    "# Import required libraries\n",
    "import numpy as np                            # For numerical operations and array handling\n",
    "import pandas as pd                           # For data loading and manipulation\n",
    "from sklearn.model_selection import train_test_split  # To split data into training and test sets\n",
    "import pickle                                 # To save/load trained models (not used in this snippet yet)\n",
    "from sklearn import metrics                   # For evaluating model performance\n",
    "from sklearn.ensemble import RandomForestClassifier  # The classifier we'll use\n",
    "\n",
    "# Load the dataset from a CSV file into a pandas DataFrame\n",
    "data = pd.read_csv(\"C:/Users/98938/Desktop/earthquake-prediction/data/dataset.csv\")\n",
    "\n",
    "# Convert the DataFrame to a NumPy array for easier slicing\n",
    "data = np.array(data)\n",
    "print(data)  # Print the entire dataset to check its content\n",
    "\n",
    "# Split data into features (X) and labels (y)\n",
    "X = data[:, 0:-1]        # All columns except the last one are features\n",
    "y = data[:, -1]          # The last column is the target label\n",
    "\n",
    "# Convert data types to integer (important if data is in string/float format)\n",
    "y = y.astype('int')\n",
    "X = X.astype('int')\n",
    "\n",
    "# Split data into training and test sets (80% train, 20% test)\n",
    "X_train, X_test, y_train, y_test = train_test_split(X, y, test_size=0.2, random_state=0)\n",
    "\n",
    "# Print training data to verify the split\n",
    "print(X_train, y_train)\n",
    "\n",
    "# Initialize the Random Forest Classifier\n",
    "rfc = RandomForestClassifier()\n",
    "\n",
    "# Train the classifier on the training data\n",
    "rfc.fit(X_train, y_train)\n",
    "\n",
    "# Predict labels for the test set\n",
    "y_pred = rfc.predict(X_test)\n",
    "\n",
    "# Calculate and print the accuracy of the model on the test set\n",
    "print(metrics.accuracy_score(y_test, y_pred))\n"
   ]
  },
  {
   "cell_type": "code",
   "execution_count": null,
   "id": "4a93f095",
   "metadata": {},
   "outputs": [],
   "source": []
  }
 ],
 "metadata": {
  "kernelspec": {
   "display_name": "venv",
   "language": "python",
   "name": "python3"
  },
  "language_info": {
   "codemirror_mode": {
    "name": "ipython",
    "version": 3
   },
   "file_extension": ".py",
   "mimetype": "text/x-python",
   "name": "python",
   "nbconvert_exporter": "python",
   "pygments_lexer": "ipython3",
   "version": "3.11.5"
  }
 },
 "nbformat": 4,
 "nbformat_minor": 5
}
